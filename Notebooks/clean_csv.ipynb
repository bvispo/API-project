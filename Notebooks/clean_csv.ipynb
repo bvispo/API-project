{
 "cells": [
  {
   "cell_type": "code",
   "execution_count": 1,
   "id": "76a314f0",
   "metadata": {},
   "outputs": [],
   "source": [
    "import pandas as pd"
   ]
  },
  {
   "cell_type": "code",
   "execution_count": 2,
   "id": "c3c8351c",
   "metadata": {},
   "outputs": [],
   "source": [
    "df = pd.read_csv(\"../data/The_Office_lines.csv\")"
   ]
  },
  {
   "cell_type": "code",
   "execution_count": 3,
   "id": "b506e8fe",
   "metadata": {},
   "outputs": [
    {
     "data": {
      "text/html": [
       "<div>\n",
       "<style scoped>\n",
       "    .dataframe tbody tr th:only-of-type {\n",
       "        vertical-align: middle;\n",
       "    }\n",
       "\n",
       "    .dataframe tbody tr th {\n",
       "        vertical-align: top;\n",
       "    }\n",
       "\n",
       "    .dataframe thead th {\n",
       "        text-align: right;\n",
       "    }\n",
       "</style>\n",
       "<table border=\"1\" class=\"dataframe\">\n",
       "  <thead>\n",
       "    <tr style=\"text-align: right;\">\n",
       "      <th></th>\n",
       "      <th>id</th>\n",
       "      <th>season</th>\n",
       "      <th>episode</th>\n",
       "      <th>scene</th>\n",
       "      <th>line_text</th>\n",
       "      <th>speaker</th>\n",
       "      <th>deleted</th>\n",
       "    </tr>\n",
       "  </thead>\n",
       "  <tbody>\n",
       "    <tr>\n",
       "      <th>55071</th>\n",
       "      <td>55072</td>\n",
       "      <td>9</td>\n",
       "      <td>9</td>\n",
       "      <td>1</td>\n",
       "      <td>Well, yeah, but I'm wondering if it's too blue...</td>\n",
       "      <td>Jim</td>\n",
       "      <td>False</td>\n",
       "    </tr>\n",
       "  </tbody>\n",
       "</table>\n",
       "</div>"
      ],
      "text/plain": [
       "          id  season  episode  scene  \\\n",
       "55071  55072       9        9      1   \n",
       "\n",
       "                                               line_text speaker  deleted  \n",
       "55071  Well, yeah, but I'm wondering if it's too blue...     Jim    False  "
      ]
     },
     "execution_count": 3,
     "metadata": {},
     "output_type": "execute_result"
    }
   ],
   "source": [
    "df.sample()"
   ]
  },
  {
   "cell_type": "code",
   "execution_count": 4,
   "id": "946364d9",
   "metadata": {},
   "outputs": [],
   "source": [
    "office = df[[\"season\", \"episode\", \"line_text\", \"speaker\"]]"
   ]
  },
  {
   "cell_type": "code",
   "execution_count": 5,
   "id": "a2d405fc",
   "metadata": {},
   "outputs": [],
   "source": [
    "names = [\"Pam\", \"Jim\", \"Michael\", \"Dwight\"]"
   ]
  },
  {
   "cell_type": "code",
   "execution_count": 6,
   "id": "0f347e10",
   "metadata": {},
   "outputs": [],
   "source": [
    "data = office.loc[office['speaker'].isin(names)]"
   ]
  },
  {
   "cell_type": "code",
   "execution_count": 7,
   "id": "bb7efb84",
   "metadata": {},
   "outputs": [],
   "source": [
    "def season(x):\n",
    "    a = str(x)\n",
    "    return \"Season \" + a"
   ]
  },
  {
   "cell_type": "code",
   "execution_count": 8,
   "id": "c8c13d1c",
   "metadata": {},
   "outputs": [
    {
     "name": "stderr",
     "output_type": "stream",
     "text": [
      "<ipython-input-8-b2a4835af52d>:1: SettingWithCopyWarning: \n",
      "A value is trying to be set on a copy of a slice from a DataFrame.\n",
      "Try using .loc[row_indexer,col_indexer] = value instead\n",
      "\n",
      "See the caveats in the documentation: https://pandas.pydata.org/pandas-docs/stable/user_guide/indexing.html#returning-a-view-versus-a-copy\n",
      "  data[\"temporada\"] = data.season.apply(season)\n"
     ]
    }
   ],
   "source": [
    "data[\"temporada\"] = data.season.apply(season)"
   ]
  },
  {
   "cell_type": "code",
   "execution_count": 9,
   "id": "d5711a1d",
   "metadata": {},
   "outputs": [],
   "source": [
    "def hacestring(x):\n",
    "    return str(x)"
   ]
  },
  {
   "cell_type": "code",
   "execution_count": 10,
   "id": "a12715cc",
   "metadata": {},
   "outputs": [
    {
     "name": "stderr",
     "output_type": "stream",
     "text": [
      "<ipython-input-10-8b1aa6cf3bcf>:1: SettingWithCopyWarning: \n",
      "A value is trying to be set on a copy of a slice from a DataFrame.\n",
      "Try using .loc[row_indexer,col_indexer] = value instead\n",
      "\n",
      "See the caveats in the documentation: https://pandas.pydata.org/pandas-docs/stable/user_guide/indexing.html#returning-a-view-versus-a-copy\n",
      "  data[\"episodio\"] = data[\"season\"].apply(hacestring) + \"x\" + data[\"episode\"].apply(hacestring)\n"
     ]
    }
   ],
   "source": [
    "data[\"episodio\"] = data[\"season\"].apply(hacestring) + \"x\" + data[\"episode\"].apply(hacestring)"
   ]
  },
  {
   "cell_type": "code",
   "execution_count": 11,
   "id": "da0a31a9",
   "metadata": {},
   "outputs": [],
   "source": [
    "data_final = data[[\"line_text\", \"speaker\", \"temporada\", \"episodio\"]]"
   ]
  },
  {
   "cell_type": "code",
   "execution_count": 12,
   "id": "7fdad469",
   "metadata": {},
   "outputs": [
    {
     "data": {
      "text/html": [
       "<div>\n",
       "<style scoped>\n",
       "    .dataframe tbody tr th:only-of-type {\n",
       "        vertical-align: middle;\n",
       "    }\n",
       "\n",
       "    .dataframe tbody tr th {\n",
       "        vertical-align: top;\n",
       "    }\n",
       "\n",
       "    .dataframe thead th {\n",
       "        text-align: right;\n",
       "    }\n",
       "</style>\n",
       "<table border=\"1\" class=\"dataframe\">\n",
       "  <thead>\n",
       "    <tr style=\"text-align: right;\">\n",
       "      <th></th>\n",
       "      <th>line_text</th>\n",
       "      <th>speaker</th>\n",
       "      <th>temporada</th>\n",
       "      <th>episodio</th>\n",
       "    </tr>\n",
       "  </thead>\n",
       "  <tbody>\n",
       "    <tr>\n",
       "      <th>0</th>\n",
       "      <td>All right Jim. Your quarterlies look very good...</td>\n",
       "      <td>Michael</td>\n",
       "      <td>Season 1</td>\n",
       "      <td>1x1</td>\n",
       "    </tr>\n",
       "    <tr>\n",
       "      <th>1</th>\n",
       "      <td>Oh, I told you. I couldn't close it. So...</td>\n",
       "      <td>Jim</td>\n",
       "      <td>Season 1</td>\n",
       "      <td>1x1</td>\n",
       "    </tr>\n",
       "    <tr>\n",
       "      <th>2</th>\n",
       "      <td>So you've come to the master for guidance? Is ...</td>\n",
       "      <td>Michael</td>\n",
       "      <td>Season 1</td>\n",
       "      <td>1x1</td>\n",
       "    </tr>\n",
       "    <tr>\n",
       "      <th>3</th>\n",
       "      <td>Actually, you called me in here, but yeah.</td>\n",
       "      <td>Jim</td>\n",
       "      <td>Season 1</td>\n",
       "      <td>1x1</td>\n",
       "    </tr>\n",
       "    <tr>\n",
       "      <th>4</th>\n",
       "      <td>All right. Well, let me show you how it's done.</td>\n",
       "      <td>Michael</td>\n",
       "      <td>Season 1</td>\n",
       "      <td>1x1</td>\n",
       "    </tr>\n",
       "    <tr>\n",
       "      <th>...</th>\n",
       "      <td>...</td>\n",
       "      <td>...</td>\n",
       "      <td>...</td>\n",
       "      <td>...</td>\n",
       "    </tr>\n",
       "    <tr>\n",
       "      <th>59880</th>\n",
       "      <td>Do I get along with my co-workers? Well, first...</td>\n",
       "      <td>Dwight</td>\n",
       "      <td>Season 9</td>\n",
       "      <td>9x23</td>\n",
       "    </tr>\n",
       "    <tr>\n",
       "      <th>59889</th>\n",
       "      <td>Imagine going back and watching a tape of your...</td>\n",
       "      <td>Jim</td>\n",
       "      <td>Season 9</td>\n",
       "      <td>9x23</td>\n",
       "    </tr>\n",
       "    <tr>\n",
       "      <th>59891</th>\n",
       "      <td>Thanks Phyl.</td>\n",
       "      <td>Jim</td>\n",
       "      <td>Season 9</td>\n",
       "      <td>9x23</td>\n",
       "    </tr>\n",
       "    <tr>\n",
       "      <th>59907</th>\n",
       "      <td>I sold paper at this company for 12 years. My ...</td>\n",
       "      <td>Jim</td>\n",
       "      <td>Season 9</td>\n",
       "      <td>9x23</td>\n",
       "    </tr>\n",
       "    <tr>\n",
       "      <th>59908</th>\n",
       "      <td>I thought it was weird when you picked us to m...</td>\n",
       "      <td>Pam</td>\n",
       "      <td>Season 9</td>\n",
       "      <td>9x23</td>\n",
       "    </tr>\n",
       "  </tbody>\n",
       "</table>\n",
       "<p>31866 rows × 4 columns</p>\n",
       "</div>"
      ],
      "text/plain": [
       "                                               line_text  speaker temporada  \\\n",
       "0      All right Jim. Your quarterlies look very good...  Michael  Season 1   \n",
       "1             Oh, I told you. I couldn't close it. So...      Jim  Season 1   \n",
       "2      So you've come to the master for guidance? Is ...  Michael  Season 1   \n",
       "3             Actually, you called me in here, but yeah.      Jim  Season 1   \n",
       "4        All right. Well, let me show you how it's done.  Michael  Season 1   \n",
       "...                                                  ...      ...       ...   \n",
       "59880  Do I get along with my co-workers? Well, first...   Dwight  Season 9   \n",
       "59889  Imagine going back and watching a tape of your...      Jim  Season 9   \n",
       "59891                                       Thanks Phyl.      Jim  Season 9   \n",
       "59907  I sold paper at this company for 12 years. My ...      Jim  Season 9   \n",
       "59908  I thought it was weird when you picked us to m...      Pam  Season 9   \n",
       "\n",
       "      episodio  \n",
       "0          1x1  \n",
       "1          1x1  \n",
       "2          1x1  \n",
       "3          1x1  \n",
       "4          1x1  \n",
       "...        ...  \n",
       "59880     9x23  \n",
       "59889     9x23  \n",
       "59891     9x23  \n",
       "59907     9x23  \n",
       "59908     9x23  \n",
       "\n",
       "[31866 rows x 4 columns]"
      ]
     },
     "execution_count": 12,
     "metadata": {},
     "output_type": "execute_result"
    }
   ],
   "source": [
    "data_final"
   ]
  },
  {
   "cell_type": "code",
   "execution_count": null,
   "id": "057c4fdb",
   "metadata": {},
   "outputs": [],
   "source": [
    "#data_final.to_csv(\"../data/office_lines.csv\")"
   ]
  }
 ],
 "metadata": {
  "kernelspec": {
   "display_name": "ironhack",
   "language": "python",
   "name": "ironhack"
  },
  "language_info": {
   "codemirror_mode": {
    "name": "ipython",
    "version": 3
   },
   "file_extension": ".py",
   "mimetype": "text/x-python",
   "name": "python",
   "nbconvert_exporter": "python",
   "pygments_lexer": "ipython3",
   "version": "3.8.5"
  }
 },
 "nbformat": 4,
 "nbformat_minor": 5
}
